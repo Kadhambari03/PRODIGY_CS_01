{
  "nbformat": 4,
  "nbformat_minor": 0,
  "metadata": {
    "colab": {
      "provenance": [],
      "authorship_tag": "ABX9TyOsm6WygNd4oJMuLW7YdF0d",
      "include_colab_link": true
    },
    "kernelspec": {
      "name": "python3",
      "display_name": "Python 3"
    },
    "language_info": {
      "name": "python"
    }
  },
  "cells": [
    {
      "cell_type": "markdown",
      "metadata": {
        "id": "view-in-github",
        "colab_type": "text"
      },
      "source": [
        "<a href=\"https://colab.research.google.com/github/Kadhambari03/PRODIGY_CS_01/blob/main/Caesar_Cipher_Implementation.ipynb\" target=\"_parent\"><img src=\"https://colab.research.google.com/assets/colab-badge.svg\" alt=\"Open In Colab\"/></a>"
      ]
    },
    {
      "cell_type": "code",
      "execution_count": 1,
      "metadata": {
        "colab": {
          "base_uri": "https://localhost:8080/"
        },
        "id": "SBE_2QJVxMqa",
        "outputId": "835406e6-2654-40b7-95bd-76e07e262f90"
      },
      "outputs": [
        {
          "output_type": "stream",
          "name": "stdout",
          "text": [
            "Caesar Cipher Program\n",
            "1. Encrypt a message\n",
            "2. Decrypt a message\n",
            "3. Both Encrypt and Decrypt\n",
            "Enter your choice (1/2/3): 3\n",
            "Enter your message: Encryption\n",
            "Enter shift value: 4\n",
            "\n",
            "--- Output ---\n",
            "Encrypted Message: Irgvctxmsr\n",
            "Decrypted Message: Encryption\n"
          ]
        }
      ],
      "source": [
        "def caesar_encrypt(text, shift):\n",
        "    result = \"\"\n",
        "    for char in text:\n",
        "        if char.isalpha():\n",
        "            base = ord('A') if char.isupper() else ord('a')\n",
        "            result += chr((ord(char) - base + shift) % 26 + base)\n",
        "        else:\n",
        "            result += char\n",
        "    return result\n",
        "\n",
        "def caesar_decrypt(text, shift):\n",
        "    return caesar_encrypt(text, -shift)\n",
        "\n",
        "print(\"Caesar Cipher Program\")\n",
        "print(\"1. Encrypt a message\")\n",
        "print(\"2. Decrypt a message\")\n",
        "print(\"3. Both Encrypt and Decrypt\")\n",
        "choice = input(\"Enter your choice (1/2/3): \")\n",
        "\n",
        "message = input(\"Enter your message: \")\n",
        "shift = int(input(\"Enter shift value: \"))\n",
        "\n",
        "print(\"\\n--- Output ---\")\n",
        "\n",
        "if choice == '1':\n",
        "    encrypted = caesar_encrypt(message, shift)\n",
        "    print(\"Encrypted Message:\", encrypted)\n",
        "\n",
        "elif choice == '2':\n",
        "    decrypted = caesar_decrypt(message, shift)\n",
        "    print(\"Decrypted Message:\", decrypted)\n",
        "\n",
        "elif choice == '3':\n",
        "    encrypted = caesar_encrypt(message, shift)\n",
        "    decrypted = caesar_decrypt(encrypted, shift)\n",
        "    print(\"Encrypted Message:\", encrypted)\n",
        "    print(\"Decrypted Message:\", decrypted)\n",
        "\n",
        "else:\n",
        "    print(\"Invalid choice. Please enter 1, 2, or 3.\")\n"
      ]
    }
  ]
}